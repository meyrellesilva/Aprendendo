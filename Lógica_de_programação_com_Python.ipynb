{
  "nbformat": 4,
  "nbformat_minor": 0,
  "metadata": {
    "colab": {
      "provenance": [],
      "authorship_tag": "ABX9TyNHsIzhVDn2y+I69mgJG9dc",
      "include_colab_link": true
    },
    "kernelspec": {
      "name": "python3",
      "display_name": "Python 3"
    },
    "language_info": {
      "name": "python"
    },
    "gpuClass": "standard"
  },
  "cells": [
    {
      "cell_type": "markdown",
      "metadata": {
        "id": "view-in-github",
        "colab_type": "text"
      },
      "source": [
        "<a href=\"https://colab.research.google.com/github/meyrellesilva/Challenge-1-Sprint-01-ALURA/blob/main/L%C3%B3gica_de_programa%C3%A7%C3%A3o_com_Python.ipynb\" target=\"_parent\"><img src=\"https://colab.research.google.com/assets/colab-badge.svg\" alt=\"Open In Colab\"/></a>"
      ]
    },
    {
      "cell_type": "markdown",
      "source": [
        "**Lógica de programação com Python**\n",
        "\n",
        "```\n",
        "# Isto está formatado como código\n",
        "```\n",
        "\n"
      ],
      "metadata": {
        "id": "bkRO-plp3OGw"
      }
    },
    {
      "cell_type": "code",
      "source": [
        "\n",
        "def saudacao_com_parametros(nome_da_pessoa) :\n",
        "  print(f'Ola {nome_da_pessoa}' )"
      ],
      "metadata": {
        "id": "NqfIhgRS6cKG"
      },
      "execution_count": null,
      "outputs": []
    },
    {
      "cell_type": "markdown",
      "source": [
        "- **Condicional**\n"
      ],
      "metadata": {
        "id": "RLrKF1th2_i8"
      }
    },
    {
      "cell_type": "code",
      "source": [
        "idade = 10\n",
        "def verificar_se_pode_dirigir():\n",
        "  if idade >= 18:\n",
        "    print('Tem permissao para dirigir')\n",
        "  else:\n",
        "    print('Nao tem permissao para dirigir')\n",
        "\n",
        "  verificar_se_pode_dirigir(idade)"
      ],
      "metadata": {
        "id": "qlhZNdkU3Cx7"
      },
      "execution_count": 37,
      "outputs": []
    },
    {
      "cell_type": "code",
      "source": [
        "def verifica_se_pode_dirigir_sem_parametros():\n",
        "  idade = input('Qual sua idade? ')\n",
        "  idade = int(idade)\n",
        "  if idade >= 18:\n",
        "    print('Tem permissão para dirigir')\n",
        "  else:\n",
        "    print('Não tem permissão para dirigir')\n",
        "\n",
        "verifica_se_pode_dirigir_sem_parametros()"
      ],
      "metadata": {
        "colab": {
          "base_uri": "https://localhost:8080/"
        },
        "id": "EtInZ4_17C6S",
        "outputId": "1a3d6662-f8c7-4996-e1c5-252e6c8b6f8f"
      },
      "execution_count": 38,
      "outputs": [
        {
          "output_type": "stream",
          "name": "stdout",
          "text": [
            "Qual sua idade? 5\n",
            "Não tem permissão para dirigir\n"
          ]
        }
      ]
    },
    {
      "cell_type": "code",
      "source": [
        "\n",
        "def velocidade(espaco, tempo):\n",
        "  v = espaco / tempo\n",
        "  print(f'velocidade: {v} m/s')\n",
        "\n",
        "velocidade(100,20)"
      ],
      "metadata": {
        "colab": {
          "base_uri": "https://localhost:8080/"
        },
        "id": "hzJbSO_w7PO6",
        "outputId": "e2691029-1597-459a-e356-72995c65f107"
      },
      "execution_count": 76,
      "outputs": [
        {
          "output_type": "stream",
          "name": "stdout",
          "text": [
            "velocidade: 5.0 m/s\n"
          ]
        }
      ]
    },
    {
      "cell_type": "code",
      "source": [
        "def velocidade(espaco, tempo):\n",
        " v = espaco / tempo\n",
        " print(f'Velocidade: {v} m/s')\n",
        "\n",
        "velocidade(100, 20)"
      ],
      "metadata": {
        "colab": {
          "base_uri": "https://localhost:8080/"
        },
        "id": "GCxCg-Dt9Y46",
        "outputId": "4d1ad8b2-f680-4402-90d3-45e2274d8dfd"
      },
      "execution_count": 68,
      "outputs": [
        {
          "output_type": "stream",
          "name": "stdout",
          "text": [
            "Velocidade: 5.0 m/s\n"
          ]
        }
      ]
    },
    {
      "cell_type": "code",
      "source": [
        "def habilitacao():\n",
        " idade = input('Qual sua idade? ')\n",
        " idade = int(idade)\n",
        " if idade >= 18:\n",
        "   print('Pode tirar habilitação')\n",
        " else:\n",
        "   tempo = (18 - idade)\n",
        "   print(f'Calma... espere {tempo} ano(s) para tirar habilitação')\n",
        "\n",
        " habilitacao()\n"
      ],
      "metadata": {
        "id": "wfertHJW983x"
      },
      "execution_count": 87,
      "outputs": []
    },
    {
      "cell_type": "markdown",
      "source": [
        "- **Laços**"
      ],
      "metadata": {
        "id": "vXK_LEwOExR3"
      }
    },
    {
      "cell_type": "code",
      "source": [
        "idades = [18, 22, 15, 50]\n",
        "def verifica_se_pode_dirigir(idades):\n",
        "  for idade in idades:\n",
        "    if idade >= 18:\n",
        "      print(f'{idade} anos de idade, TEM permissão para dirigir')\n",
        "    else:\n",
        "      print(f'{idade} anos de idade, NÃO TEM permissão para dirigir')"
      ],
      "metadata": {
        "id": "SLcn1-d_EoMu"
      },
      "execution_count": 95,
      "outputs": []
    }
  ]
}